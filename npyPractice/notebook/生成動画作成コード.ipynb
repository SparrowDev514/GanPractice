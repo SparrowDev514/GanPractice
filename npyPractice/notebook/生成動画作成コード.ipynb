{
 "cells": [
  {
   "cell_type": "code",
   "execution_count": 8,
   "metadata": {
    "colab": {
     "base_uri": "https://localhost:8080/",
     "height": 69
    },
    "colab_type": "code",
    "executionInfo": {
     "elapsed": 3024,
     "status": "ok",
     "timestamp": 1586822885862,
     "user": {
      "displayName": "siny",
      "photoUrl": "https://lh4.googleusercontent.com/-z-yylDZd2Yg/AAAAAAAAAAI/AAAAAAAACjA/q4yWhDBXG5Y/s64/photo.jpg",
      "userId": "06524332640654327564"
     },
     "user_tz": -540
    },
    "id": "rZRbNp4bZeFA",
    "outputId": "49731640-8334-4060-da34-7bf46f2e96a5"
   },
   "outputs": [
    {
     "name": "stdout",
     "output_type": "stream",
     "text": [
      "1.13.1\n"
     ]
    }
   ],
   "source": [
    "import tensorflow as tf\n",
    "from tensorflow import keras\n",
    "from tensorflow.keras.layers import Conv2D, MaxPooling2D, Dropout, Flatten, Dense\n",
    "\n",
    "# Commonly used modules\n",
    "import numpy as np\n",
    "import os\n",
    "import sys\n",
    "\n",
    "# Images, plots, display, and visualization\n",
    "import matplotlib.pyplot as plt\n",
    "import pandas as pd\n",
    "import seaborn as sns\n",
    "import cv2\n",
    "import IPython\n",
    "from six.moves import urllib\n",
    "\n",
    "print(tf.__version__)"
   ]
  },
  {
   "cell_type": "code",
   "execution_count": null,
   "metadata": {
    "colab": {
     "base_uri": "https://localhost:8080/",
     "height": 124
    },
    "colab_type": "code",
    "executionInfo": {
     "elapsed": 21138,
     "status": "ok",
     "timestamp": 1586822908649,
     "user": {
      "displayName": "siny",
      "photoUrl": "https://lh4.googleusercontent.com/-z-yylDZd2Yg/AAAAAAAAAAI/AAAAAAAACjA/q4yWhDBXG5Y/s64/photo.jpg",
      "userId": "06524332640654327564"
     },
     "user_tz": -540
    },
    "id": "DqPczq2pbT9V",
    "outputId": "5c0f5325-f449-4e86-fc55-d65bafd98961",
    "scrolled": true
   },
   "outputs": [],
   "source": []
  },
  {
   "cell_type": "code",
   "execution_count": 9,
   "metadata": {
    "colab": {},
    "colab_type": "code",
    "id": "nis-04VCbYzA"
   },
   "outputs": [],
   "source": [
    "img_path = './../../npyPractice/data/result'\n",
    "output_path = './../../npyPractice/data/result/output.mp4'\n",
    "\n",
    "import glob\n",
    "import os\n",
    "img_list = glob.glob(os.path.join(img_path, \"*\"))\n",
    "\n",
    "def cv2_imshow(img):\n",
    "    ret = cv2.imencode('.png', img)[1].tobytes() \n",
    "    img_ip = IPython.display.Image(data=ret)\n",
    "    IPython.display.display(img_ip)"
   ]
  },
  {
   "cell_type": "code",
   "execution_count": 10,
   "metadata": {
    "colab": {
     "base_uri": "https://localhost:8080/",
     "height": 34
    },
    "colab_type": "code",
    "executionInfo": {
     "elapsed": 525,
     "status": "ok",
     "timestamp": 1586823175580,
     "user": {
      "displayName": "siny",
      "photoUrl": "https://lh4.googleusercontent.com/-z-yylDZd2Yg/AAAAAAAAAAI/AAAAAAAACjA/q4yWhDBXG5Y/s64/photo.jpg",
      "userId": "06524332640654327564"
     },
     "user_tz": -540
    },
    "id": "G0Aqkza1B_vX",
    "outputId": "1a8e9534-e479-4c43-97ee-f0e4793417ce"
   },
   "outputs": [
    {
     "data": {
      "text/plain": [
       "8"
      ]
     },
     "execution_count": 10,
     "metadata": {},
     "output_type": "execute_result"
    }
   ],
   "source": [
    "len(img_list)"
   ]
  },
  {
   "cell_type": "markdown",
   "metadata": {
    "colab_type": "text",
    "id": "NWweCZ6ShVx7"
   },
   "source": [
    "# GAN学習経過の可視化（動画作成）"
   ]
  },
  {
   "cell_type": "code",
   "execution_count": 11,
   "metadata": {
    "colab": {
     "base_uri": "https://localhost:8080/",
     "height": 305
    },
    "colab_type": "code",
    "executionInfo": {
     "elapsed": 5661,
     "status": "ok",
     "timestamp": 1586823229434,
     "user": {
      "displayName": "siny",
      "photoUrl": "https://lh4.googleusercontent.com/-z-yylDZd2Yg/AAAAAAAAAAI/AAAAAAAACjA/q4yWhDBXG5Y/s64/photo.jpg",
      "userId": "06524332640654327564"
     },
     "user_tz": -540
    },
    "id": "44ILD35ocXav",
    "outputId": "b760eb3e-dcdf-4225-f889-d288e8c9144f"
   },
   "outputs": [
    {
     "ename": "error",
     "evalue": "OpenCV(3.4.2) /opt/concourse/worker/volumes/live/9523d527-1b9e-48e0-7ed0-a36adde286f0/volume/opencv-suite_1535558719691/work/modules/imgcodecs/src/loadsave.cpp:925: error: (-215:Assertion failed) code in function 'imencode'\n",
     "output_type": "error",
     "traceback": [
      "\u001b[0;31m---------------------------------------------------------------------------\u001b[0m",
      "\u001b[0;31merror\u001b[0m                                     Traceback (most recent call last)",
      "\u001b[0;32m<ipython-input-11-0d1edec2ee92>\u001b[0m in \u001b[0;36m<module>\u001b[0;34m\u001b[0m\n\u001b[1;32m     34\u001b[0m     \u001b[0;31m# 描画用にスケールダウン\u001b[0m\u001b[0;34m\u001b[0m\u001b[0;34m\u001b[0m\u001b[0;34m\u001b[0m\u001b[0m\n\u001b[1;32m     35\u001b[0m     \u001b[0;31m#img_disp = cv2.resize(img, (0,0), fx=0.5, fy=0.5)\u001b[0m\u001b[0;34m\u001b[0m\u001b[0;34m\u001b[0m\u001b[0;34m\u001b[0m\u001b[0m\n\u001b[0;32m---> 36\u001b[0;31m   \u001b[0mcv2_imshow\u001b[0m\u001b[0;34m(\u001b[0m\u001b[0mimg\u001b[0m\u001b[0;34m)\u001b[0m\u001b[0;34m\u001b[0m\u001b[0;34m\u001b[0m\u001b[0m\n\u001b[0m\u001b[1;32m     37\u001b[0m   \u001b[0mIPython\u001b[0m\u001b[0;34m.\u001b[0m\u001b[0mdisplay\u001b[0m\u001b[0;34m.\u001b[0m\u001b[0mclear_output\u001b[0m\u001b[0;34m(\u001b[0m\u001b[0mwait\u001b[0m\u001b[0;34m=\u001b[0m\u001b[0;32mTrue\u001b[0m\u001b[0;34m)\u001b[0m  \u001b[0;31m#出力結果の削除\u001b[0m\u001b[0;34m\u001b[0m\u001b[0;34m\u001b[0m\u001b[0m\n\u001b[1;32m     38\u001b[0m \u001b[0;34m\u001b[0m\u001b[0m\n",
      "\u001b[0;32m<ipython-input-9-e2a5b1630510>\u001b[0m in \u001b[0;36mcv2_imshow\u001b[0;34m(img)\u001b[0m\n\u001b[1;32m      7\u001b[0m \u001b[0;34m\u001b[0m\u001b[0m\n\u001b[1;32m      8\u001b[0m \u001b[0;32mdef\u001b[0m \u001b[0mcv2_imshow\u001b[0m\u001b[0;34m(\u001b[0m\u001b[0mimg\u001b[0m\u001b[0;34m)\u001b[0m\u001b[0;34m:\u001b[0m\u001b[0;34m\u001b[0m\u001b[0;34m\u001b[0m\u001b[0m\n\u001b[0;32m----> 9\u001b[0;31m     \u001b[0mret\u001b[0m \u001b[0;34m=\u001b[0m \u001b[0mcv2\u001b[0m\u001b[0;34m.\u001b[0m\u001b[0mimencode\u001b[0m\u001b[0;34m(\u001b[0m\u001b[0;34m'.png'\u001b[0m\u001b[0;34m,\u001b[0m \u001b[0mimg\u001b[0m\u001b[0;34m)\u001b[0m\u001b[0;34m[\u001b[0m\u001b[0;36m1\u001b[0m\u001b[0;34m]\u001b[0m\u001b[0;34m.\u001b[0m\u001b[0mtobytes\u001b[0m\u001b[0;34m(\u001b[0m\u001b[0;34m)\u001b[0m\u001b[0;34m\u001b[0m\u001b[0;34m\u001b[0m\u001b[0m\n\u001b[0m\u001b[1;32m     10\u001b[0m     \u001b[0mimg_ip\u001b[0m \u001b[0;34m=\u001b[0m \u001b[0mIPython\u001b[0m\u001b[0;34m.\u001b[0m\u001b[0mdisplay\u001b[0m\u001b[0;34m.\u001b[0m\u001b[0mImage\u001b[0m\u001b[0;34m(\u001b[0m\u001b[0mdata\u001b[0m\u001b[0;34m=\u001b[0m\u001b[0mret\u001b[0m\u001b[0;34m)\u001b[0m\u001b[0;34m\u001b[0m\u001b[0;34m\u001b[0m\u001b[0m\n\u001b[1;32m     11\u001b[0m     \u001b[0mIPython\u001b[0m\u001b[0;34m.\u001b[0m\u001b[0mdisplay\u001b[0m\u001b[0;34m.\u001b[0m\u001b[0mdisplay\u001b[0m\u001b[0;34m(\u001b[0m\u001b[0mimg_ip\u001b[0m\u001b[0;34m)\u001b[0m\u001b[0;34m\u001b[0m\u001b[0;34m\u001b[0m\u001b[0m\n",
      "\u001b[0;31merror\u001b[0m: OpenCV(3.4.2) /opt/concourse/worker/volumes/live/9523d527-1b9e-48e0-7ed0-a36adde286f0/volume/opencv-suite_1535558719691/work/modules/imgcodecs/src/loadsave.cpp:925: error: (-215:Assertion failed) code in function 'imencode'\n"
     ]
    }
   ],
   "source": [
    "vw = None\n",
    "\n",
    "line_type = cv2.LINE_AA   #ラインタイプを指定\n",
    "font_face = cv2.FONT_HERSHEY_SIMPLEX\n",
    "font_scale = 0.8     \n",
    "thickness = 2\n",
    "\n",
    "color = (255,0 , 0)  # 白色\n",
    "\n",
    "\n",
    "for index, png_file in enumerate(img_list):\n",
    "  img = cv2.imread(png_file)\n",
    "  # 文字列 \"エポック数\" を描画\n",
    "  text = \"Epoch =\" + str(index * 500)\n",
    "  cv2.putText(img, text=text, org=(50, 60), fontScale=font_scale, fontFace=font_face, thickness=thickness,color=color, lineType=line_type)\n",
    "\n",
    "  save_video = True\n",
    "  if save_video:\n",
    "    if vw is None:\n",
    "      codec = cv2.VideoWriter_fourcc(*'DIVX')\n",
    "      vid_width_height = img.shape[1], img.shape[0]  # (288, 288)\n",
    "      vw = cv2.VideoWriter(output_path, codec, 30, vid_width_height)  #(288, 288)で出力するファイルパスとコーデックを指定。\n",
    "    # 変化具合をゆっくり表示させたいので複数回write\n",
    "    vw.write(img)\n",
    "    vw.write(img)\n",
    "    vw.write(img)    \n",
    "    vw.write(img)\n",
    "    vw.write(img)\n",
    "    vw.write(img)\n",
    "    vw.write(img)\n",
    "    vw.write(img)    \n",
    "    vw.write(img)\n",
    "    vw.write(img)\n",
    "    # 描画用にスケールダウン\n",
    "    #img_disp = cv2.resize(img, (0,0), fx=0.5, fy=0.5)\n",
    "  cv2_imshow(img)\n",
    "  IPython.display.clear_output(wait=True)  #出力結果の削除\n",
    "\n",
    "\n",
    "if vw is not None:\n",
    "    vw.release()   # mp4ファイルの開放(ここでmp４ファイルが完成する）"
   ]
  },
  {
   "cell_type": "code",
   "execution_count": null,
   "metadata": {},
   "outputs": [],
   "source": []
  }
 ],
 "metadata": {
  "colab": {
   "authorship_tag": "ABX9TyPvPSpBn8/THneE65HCxtfq",
   "collapsed_sections": [],
   "name": "生成動画作成コード.ipynb",
   "provenance": []
  },
  "kernelspec": {
   "display_name": "Python 3",
   "language": "python",
   "name": "python3"
  },
  "language_info": {
   "codemirror_mode": {
    "name": "ipython",
    "version": 3
   },
   "file_extension": ".py",
   "mimetype": "text/x-python",
   "name": "python",
   "nbconvert_exporter": "python",
   "pygments_lexer": "ipython3",
   "version": "3.6.8"
  }
 },
 "nbformat": 4,
 "nbformat_minor": 1
}
