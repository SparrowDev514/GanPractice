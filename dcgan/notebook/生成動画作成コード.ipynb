{
 "cells": [
  {
   "cell_type": "code",
   "execution_count": null,
   "metadata": {
    "colab": {
     "base_uri": "https://localhost:8080/",
     "height": 69
    },
    "colab_type": "code",
    "executionInfo": {
     "elapsed": 3024,
     "status": "ok",
     "timestamp": 1586822885862,
     "user": {
      "displayName": "siny",
      "photoUrl": "https://lh4.googleusercontent.com/-z-yylDZd2Yg/AAAAAAAAAAI/AAAAAAAACjA/q4yWhDBXG5Y/s64/photo.jpg",
      "userId": "06524332640654327564"
     },
     "user_tz": -540
    },
    "id": "rZRbNp4bZeFA",
    "outputId": "49731640-8334-4060-da34-7bf46f2e96a5"
   },
   "outputs": [],
   "source": [
    "import tensorflow as tf\n",
    "from tensorflow import keras\n",
    "from tensorflow.keras.layers import Conv2D, MaxPooling2D, Dropout, Flatten, Dense\n",
    "\n",
    "# Commonly used modules\n",
    "import numpy as np\n",
    "import os\n",
    "import sys\n",
    "\n",
    "# Images, plots, display, and visualization\n",
    "import matplotlib.pyplot as plt\n",
    "import pandas as pd\n",
    "import seaborn as sns\n",
    "import cv2\n",
    "import IPython\n",
    "from six.moves import urllib\n",
    "\n",
    "print(tf.__version__)"
   ]
  },
  {
   "cell_type": "code",
   "execution_count": null,
   "metadata": {
    "colab": {},
    "colab_type": "code",
    "id": "nis-04VCbYzA"
   },
   "outputs": [],
   "source": [
    "img_path = '/Users/murakamikei/Desktop/GanPractice/dcgan/data/result/'\n",
    "output_path = '/Users/murakamikei/Desktop/GanPractice/output.mp4'\n",
    "\n",
    "import glob\n",
    "import os\n",
    "img_list = glob.glob(os.path.join(img_path, \"*\"))\n",
    "\n",
    "def cv2_imshow(img):\n",
    "    ret = cv2.imencode('.png', img)[1].tobytes() \n",
    "    img_ip = IPython.display.Image(data=ret)\n",
    "    IPython.display.display(img_ip)"
   ]
  },
  {
   "cell_type": "code",
   "execution_count": null,
   "metadata": {
    "colab": {
     "base_uri": "https://localhost:8080/",
     "height": 34
    },
    "colab_type": "code",
    "executionInfo": {
     "elapsed": 525,
     "status": "ok",
     "timestamp": 1586823175580,
     "user": {
      "displayName": "siny",
      "photoUrl": "https://lh4.googleusercontent.com/-z-yylDZd2Yg/AAAAAAAAAAI/AAAAAAAACjA/q4yWhDBXG5Y/s64/photo.jpg",
      "userId": "06524332640654327564"
     },
     "user_tz": -540
    },
    "id": "G0Aqkza1B_vX",
    "outputId": "1a8e9534-e479-4c43-97ee-f0e4793417ce"
   },
   "outputs": [],
   "source": [
    "len(img_list)"
   ]
  },
  {
   "cell_type": "markdown",
   "metadata": {
    "colab_type": "text",
    "id": "NWweCZ6ShVx7"
   },
   "source": [
    "# GAN学習経過の可視化（動画作成）"
   ]
  },
  {
   "cell_type": "code",
   "execution_count": null,
   "metadata": {
    "colab": {
     "base_uri": "https://localhost:8080/",
     "height": 305
    },
    "colab_type": "code",
    "executionInfo": {
     "elapsed": 5661,
     "status": "ok",
     "timestamp": 1586823229434,
     "user": {
      "displayName": "siny",
      "photoUrl": "https://lh4.googleusercontent.com/-z-yylDZd2Yg/AAAAAAAAAAI/AAAAAAAACjA/q4yWhDBXG5Y/s64/photo.jpg",
      "userId": "06524332640654327564"
     },
     "user_tz": -540
    },
    "id": "44ILD35ocXav",
    "outputId": "b760eb3e-dcdf-4225-f889-d288e8c9144f"
   },
   "outputs": [],
   "source": [
    "vw = None\n",
    "\n",
    "line_type = cv2.LINE_AA   #ラインタイプを指定\n",
    "font_face = cv2.FONT_HERSHEY_SIMPLEX\n",
    "font_scale = 0.8     \n",
    "thickness = 2\n",
    "\n",
    "color = (255,0 , 0)  # 白色\n",
    "\n",
    "\n",
    "for index, png_file in enumerate(img_list):\n",
    "  img = cv2.imread(png_file)\n",
    "  print(img)\n",
    "\n",
    "  # 文字列 \"エポック数\" を描画\n",
    "  text = \"Epoch =\" + str(index * 100)\n",
    "  cv2.putText(img, text=text, org=(50, 60), fontScale=font_scale, fontFace=font_face, thickness=thickness,color=color, lineType=line_type)\n",
    "\n",
    "  save_video = True\n",
    "  if save_video:\n",
    "    if vw is None:\n",
    "      codec = cv2.VideoWriter_fourcc(*'DIVX')\n",
    "      vid_width_height = img.shape[1], img.shape[0]  # (288, 288)\n",
    "      vw = cv2.VideoWriter(output_path, codec, 30, vid_width_height)  #(288, 288)で出力するファイルパスとコーデックを指定。\n",
    "    # 変化具合をゆっくり表示させたいので複数回write\n",
    "    vw.write(img)\n",
    "    vw.write(img)\n",
    "    vw.write(img)    \n",
    "    vw.write(img)\n",
    "    vw.write(img)\n",
    "    vw.write(img)\n",
    "    vw.write(img)\n",
    "    vw.write(img)    \n",
    "    vw.write(img)\n",
    "    vw.write(img)\n",
    "    # 描画用にスケールダウン\n",
    "    #img_disp = cv2.resize(img, (0,0), fx=0.5, fy=0.5)\n",
    "  cv2_imshow(img)\n",
    "  IPython.display.clear_output(wait=True)  #出力結果の削除\n",
    "\n",
    "\n",
    "if vw is not None:\n",
    "    vw.release()   # mp4ファイルの開放(ここでmp４ファイルが完成する）"
   ]
  }
 ],
 "metadata": {
  "colab": {
   "authorship_tag": "ABX9TyPvPSpBn8/THneE65HCxtfq",
   "collapsed_sections": [],
   "name": "生成動画作成コード.ipynb",
   "provenance": []
  },
  "kernelspec": {
   "name": "python368jvsc74a57bd06ee8f1b8df20020a49a1ec64302a4cf6242e9d2e480e66218952abb55a3f4c66",
   "display_name": "Python 3.6.8 64-bit ('dcgan': conda)"
  },
  "language_info": {
   "codemirror_mode": {
    "name": "ipython",
    "version": 3
   },
   "file_extension": ".py",
   "mimetype": "text/x-python",
   "name": "python",
   "nbconvert_exporter": "python",
   "pygments_lexer": "ipython3",
   "version": "3.6.8"
  }
 },
 "nbformat": 4,
 "nbformat_minor": 1
}